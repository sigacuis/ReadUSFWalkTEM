{
  "cells": [
    {
      "cell_type": "markdown",
      "metadata": {},
      "source": [
        "# Read USF WalkTEM"
      ]
    },
    {
      "cell_type": "markdown",
      "metadata": {},
      "source": [
        "Autores\n",
        "\n",
        "- **Paul Goyes**: [goyes.yesid@gmail.com](mailto:goyes.yesid@gmail.com)  \n",
        "- **Daniela Quintero**: [yejoandajudi200305@gmail.com](mailto:yejoandajudi200305@gmail.com)  \n",
        "- **Erick Villamizar**: [erickvillamizar25@gmail.com](mailto:erickvillamizar25@gmail.com) "
      ]
    },
    {
      "cell_type": "markdown",
      "metadata": {},
      "source": [
        "Importar las librerías necesarias"
      ]
    },
    {
      "cell_type": "code",
      "execution_count": 26,
      "metadata": {
        "id": "nEkF45001cMy"
      },
      "outputs": [],
      "source": [
        "import numpy as np\n",
        "import matplotlib as mpl\n",
        "import matplotlib.pyplot as plt\n",
        "from pygimli.physics import em"
      ]
    },
    {
      "cell_type": "markdown",
      "metadata": {},
      "source": [
        "Pegar la ruta donde se encuentra el archivo USF"
      ]
    },
    {
      "cell_type": "code",
      "execution_count": 27,
      "metadata": {
        "id": "wau2YZX01k1G"
      },
      "outputs": [],
      "source": [
        "data = em.readusffile('20240901_110436_937_Station1.usf') # cambiar ruta del archivo usf\n",
        "\n",
        "\n",
        "NSWEEPS = len(data) # ciclos del sondeo\n",
        "COILSIZE1=35 #0.5×0.5 en el RC-5\n",
        "COILSIZE2=1400 # 10×10 en la RC-200\n",
        "\n",
        "dbdts1, dbdts2, dbdts4, dbdts5= [], [], [], []\n",
        "tiempo_1, tiempo_2, tiempo_4, tiempo_5= [], [], [], []\n",
        "\n",
        "\n",
        "# itera sobre cada ciclo del sondeo y extrae las mediciones de cada canal\n",
        "\n",
        "for sweep in data:\n",
        "    if sweep['CURRENT'] != 0:\n",
        "        channel = int(sweep['CHANNEL'])\n",
        "        voltage = sweep['VOLTAGE']\n",
        "        current = sweep['CURRENT']\n",
        "        time = sweep['TIME']\n",
        "        coil_size = sweep['COIL_SIZE']\n",
        "\n",
        "        if channel == 1:\n",
        "            dbdts1.append(voltage)\n",
        "            tiempo_1.append(time)\n",
        "        elif channel == 2:\n",
        "            dbdts2.append(voltage)\n",
        "            tiempo_2.append(time)\n",
        "        elif channel == 4:\n",
        "            dbdts4.append(voltage)\n",
        "            tiempo_4.append(time)\n",
        "        elif channel == 5:\n",
        "            dbdts5.append(voltage)\n",
        "            tiempo_5.append(time)"
      ]
    },
    {
      "cell_type": "markdown",
      "metadata": {},
      "source": [
        "Convertir las mediciones a arrays y obtener el promedio"
      ]
    },
    {
      "cell_type": "code",
      "execution_count": 28,
      "metadata": {
        "colab": {
          "base_uri": "https://localhost:8080/"
        },
        "id": "OwjjmpC91q4R",
        "outputId": "41063c11-b03c-413f-d40b-9ce83654d2ce"
      },
      "outputs": [
        {
          "data": {
            "text/plain": [
              "(31,)"
            ]
          },
          "execution_count": 28,
          "metadata": {},
          "output_type": "execute_result"
        }
      ],
      "source": [
        "# RC-5 LM\n",
        "dbdt_1 = np.array(dbdts1)\n",
        "dbdt_RC5_Low= np.nanmean(dbdt_1,axis=0) \n",
        "dbdt_RC5_Low.shape"
      ]
    },
    {
      "cell_type": "code",
      "execution_count": 38,
      "metadata": {
        "colab": {
          "base_uri": "https://localhost:8080/"
        },
        "id": "akdFjyr44swy",
        "outputId": "a83e3a74-eaa7-4761-c1d1-66512fb6e33d"
      },
      "outputs": [
        {
          "data": {
            "text/plain": [
              "(22,)"
            ]
          },
          "execution_count": 38,
          "metadata": {},
          "output_type": "execute_result"
        }
      ],
      "source": [
        "# RC-5 HM\n",
        "dbdt_2 = np.array(dbdts2)\n",
        "dbdt_RC5_High= np.nanmean(dbdt_2,axis=0)\n",
        "dbdt_RC5_High.shape"
      ]
    },
    {
      "cell_type": "code",
      "execution_count": 30,
      "metadata": {
        "colab": {
          "base_uri": "https://localhost:8080/"
        },
        "id": "Z9GDPMIK62bf",
        "outputId": "0385c5c8-94d4-40f5-b469-41a26fcc5f2b"
      },
      "outputs": [
        {
          "data": {
            "text/plain": [
              "(31,)"
            ]
          },
          "execution_count": 30,
          "metadata": {},
          "output_type": "execute_result"
        }
      ],
      "source": [
        "# RC-200 LM\n",
        "dbdt_4 = np.array(dbdts4)\n",
        "dbdt_RC200_Low= np.nanmean(dbdt_4,axis=0)\n",
        "dbdt_RC200_Low.shape"
      ]
    },
    {
      "cell_type": "code",
      "execution_count": 31,
      "metadata": {
        "colab": {
          "base_uri": "https://localhost:8080/"
        },
        "id": "kK3z2QAY7Bqt",
        "outputId": "130968f1-d1ac-4521-b50f-7777d460482a"
      },
      "outputs": [
        {
          "data": {
            "text/plain": [
              "(22,)"
            ]
          },
          "execution_count": 31,
          "metadata": {},
          "output_type": "execute_result"
        }
      ],
      "source": [
        "# RC-200 HM\n",
        "dbdt_5 = np.array(dbdts5)\n",
        "dbdt_RC200_High= np.nanmean(dbdt_5,axis=0)\n",
        "dbdt_RC200_High.shape"
      ]
    },
    {
      "cell_type": "code",
      "execution_count": 32,
      "metadata": {
        "colab": {
          "base_uri": "https://localhost:8080/"
        },
        "id": "fbiarFuy7Kzr",
        "outputId": "9564e54e-f787-4844-c729-8a0b099314b4"
      },
      "outputs": [
        {
          "data": {
            "text/plain": [
              "(31,)"
            ]
          },
          "execution_count": 32,
          "metadata": {},
          "output_type": "execute_result"
        }
      ],
      "source": [
        "# Calcular el promedio de las LM\n",
        "dbdt_low = np.mean([dbdt_RC5_Low, dbdt_RC200_Low], axis=0)\n",
        "dbdt_low.shape"
      ]
    },
    {
      "cell_type": "code",
      "execution_count": 33,
      "metadata": {
        "colab": {
          "base_uri": "https://localhost:8080/"
        },
        "id": "BpnxJIkn7zgV",
        "outputId": "40c95d72-2f3a-4cc1-bdce-d4b260ce137a"
      },
      "outputs": [
        {
          "data": {
            "text/plain": [
              "array([1.91871061e-03, 1.85607425e-03, 9.94370633e-04, 1.77050340e-04,\n",
              "       7.56142867e-05, 4.49946855e-05, 2.59797362e-05, 1.49537570e-05,\n",
              "       8.78385150e-06, 5.06012342e-06, 2.83882427e-06, 1.55434830e-06,\n",
              "       8.27476090e-07, 4.32589608e-07, 2.23816416e-07, 1.12822144e-07,\n",
              "       5.76702007e-08, 2.84472485e-08, 1.39132085e-08, 6.88137348e-09,\n",
              "       3.63763404e-09, 1.87753891e-09])"
            ]
          },
          "execution_count": 33,
          "metadata": {},
          "output_type": "execute_result"
        }
      ],
      "source": [
        "# Calcular el promedio de las HM\n",
        "dbdt_high = np.mean([dbdt_RC5_High, dbdt_RC200_High], axis=0)\n",
        "dbdt_high"
      ]
    },
    {
      "cell_type": "code",
      "execution_count": 34,
      "metadata": {
        "colab": {
          "base_uri": "https://localhost:8080/"
        },
        "id": "NLR0a0yYVzDq",
        "outputId": "ac136889-2dd7-48c1-af6c-378270c5784d"
      },
      "outputs": [
        {
          "data": {
            "text/plain": [
              "array([2.19000e-06, 6.19000e-06, 1.01900e-05, 1.41900e-05, 1.81900e-05,\n",
              "       2.26900e-05, 2.86900e-05, 3.61900e-05, 4.51900e-05, 5.66900e-05,\n",
              "       7.11900e-05, 8.96900e-05, 1.13190e-04, 1.42190e-04, 1.79190e-04,\n",
              "       2.25690e-04, 2.83690e-04, 3.57190e-04, 4.49690e-04, 5.66190e-04,\n",
              "       7.12690e-04, 8.97190e-04, 1.12969e-03, 1.42219e-03, 1.79019e-03,\n",
              "       2.25369e-03, 2.83719e-03, 3.57169e-03, 4.49669e-03, 5.66119e-03,\n",
              "       7.12669e-03])"
            ]
          },
          "execution_count": 34,
          "metadata": {},
          "output_type": "execute_result"
        }
      ],
      "source": [
        "# Tiempo LM\n",
        "tiempo_LM = np.array(tiempo_1)\n",
        "tiempo_LM= np.nanmean(tiempo_LM,axis=0)\n",
        "tiempo_LM"
      ]
    },
    {
      "cell_type": "code",
      "execution_count": 39,
      "metadata": {
        "colab": {
          "base_uri": "https://localhost:8080/"
        },
        "id": "tLrMUi-3V7FN",
        "outputId": "0a9a3d9b-65a6-4b63-a407-a57ec746c745"
      },
      "outputs": [
        {
          "data": {
            "text/plain": [
              "array([2.1900e-06, 6.1900e-06, 1.0190e-05, 1.4190e-05, 1.8190e-05,\n",
              "       2.2690e-05, 2.8690e-05, 3.6190e-05, 4.5190e-05, 5.6690e-05,\n",
              "       7.1190e-05, 8.9690e-05, 1.1319e-04, 1.4219e-04, 1.7919e-04,\n",
              "       2.2569e-04, 2.8369e-04, 3.5719e-04, 4.4969e-04, 5.6619e-04,\n",
              "       7.1269e-04, 8.9719e-04])"
            ]
          },
          "execution_count": 39,
          "metadata": {},
          "output_type": "execute_result"
        }
      ],
      "source": [
        "# Tiempo HM\n",
        "tiempo_HM = np.array(tiempo_2)\n",
        "tiempo_HM= np.nanmean(tiempo_HM,axis=0)\n",
        "tiempo_HM"
      ]
    },
    {
      "cell_type": "markdown",
      "metadata": {},
      "source": [
        "Graficar las mediciones LM y HM"
      ]
    },
    {
      "cell_type": "code",
      "execution_count": 41,
      "metadata": {
        "colab": {
          "base_uri": "https://localhost:8080/",
          "height": 587
        },
        "id": "zLqfsW6j1_pY",
        "outputId": "5f787217-52c6-4dc7-c1f3-64f9612ba01c"
      },
      "outputs": [
        {
          "data": {
            "image/png": "[encoded data removed]",
            "text/plain": [
              "<Figure size 500x600 with 1 Axes>"
            ]
          },
          "metadata": {},
          "output_type": "display_data"
        }
      ],
      "source": [
        "fig = plt.figure(figsize=(5, 6))\n",
        "ax = fig.add_axes([0.2, 0.15, 0.75, 0.78])\n",
        "\n",
        "ax.loglog(tiempo_LM, dbdt_low, \"b.\",  label='dobs_LM')\n",
        "ax.loglog(tiempo_HM, dbdt_high, \"r.\", label='dobs_HM')\n",
        "\n",
        "ax.set_xlim([tiempo_LM.min()/10, 10*tiempo_LM.max()])\n",
        "\n",
        "ax.grid()\n",
        "ax.set_xlabel(\"Times (s)\")\n",
        "ax.set_ylabel(\"dBz/dt (V/A)\")\n",
        "ax.set_title(\"Magnetic Flux Time Derivative\")\n",
        "ax.legend()\n",
        "plt.show()"
      ]
    }
  ],
  "metadata": {
    "colab": {
      "provenance": []
    },
    "kernelspec": {
      "display_name": "Python 3",
      "name": "python3"
    },
    "language_info": {
      "codemirror_mode": {
        "name": "ipython",
        "version": 3
      },
      "file_extension": ".py",
      "mimetype": "text/x-python",
      "name": "python",
      "nbconvert_exporter": "python",
      "pygments_lexer": "ipython3",
      "version": "3.11.1"
    }
  },
  "nbformat": 4,
  "nbformat_minor": 0
}
